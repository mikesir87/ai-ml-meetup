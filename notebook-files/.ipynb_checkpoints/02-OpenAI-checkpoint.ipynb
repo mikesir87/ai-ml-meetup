{
 "cells": [
  {
   "cell_type": "markdown",
   "id": "57dec059-2f59-4681-b637-9c6a9663ce82",
   "metadata": {
    "jp-MarkdownHeadingCollapsed": true
   },
   "source": [
    "## 1. OpenAI Setup"
   ]
  },
  {
   "cell_type": "code",
   "execution_count": null,
   "id": "9f2042a6",
   "metadata": {},
   "outputs": [],
   "source": [
    "import os\n",
    "from config import open_api_key\n",
    "from langchain_openai import OpenAI\n",
    "\n",
    "os.environ[\"OPENAI_API_KEY\"] = open_api_key\n",
    "llm = OpenAI()"
   ]
  },
  {
   "cell_type": "code",
   "execution_count": null,
   "id": "e7d644e9",
   "metadata": {},
   "outputs": [],
   "source": [
    "query = \"Tell me a dad joke about Docker and containers\"\n",
    "\n",
    "for chunks in llm.stream(query):\n",
    "    print(chunks)"
   ]
  },
  {
   "cell_type": "markdown",
   "id": "c7e7162a",
   "metadata": {},
   "source": [
    "## 2. Prompt templates"
   ]
  },
  {
   "cell_type": "code",
   "execution_count": null,
   "id": "57066f82-14dd-4cf5-9c4d-1d1667dc8aec",
   "metadata": {},
   "outputs": [],
   "source": [
    "from langchain.prompts import PromptTemplate\n",
    "\n",
    "prompt_template = PromptTemplate(\n",
    "  input_variables = [\"joke_topic\"],\n",
    "  template = \"Tell me a dad joke about the following topic. It should have puns, hilarious. Topic: {joke_topic} \"\n",
    ")\n",
    "\n",
    "prompt_template.format(joke_topic=\"Docker and containers\")"
   ]
  },
  {
   "cell_type": "code",
   "execution_count": null,
   "id": "08813138-d28d-43cb-bab5-8ff4c1935b1a",
   "metadata": {},
   "outputs": [],
   "source": [
    "from langchain.chains import LLMChain\n",
    "\n",
    "chain = LLMChain(llm=llm, prompt=prompt_template)\n",
    "chain.invoke(\"Docker and containers\")"
   ]
  },
  {
   "cell_type": "markdown",
   "id": "b9302f0e-580a-47e5-a3fe-31e07a3c15e6",
   "metadata": {},
   "source": [
    "## 3. Embeddings"
   ]
  },
  {
   "cell_type": "code",
   "execution_count": null,
   "id": "83162f59-cdd4-4aee-a7f3-2d392934228d",
   "metadata": {},
   "outputs": [],
   "source": [
    "from langchain_openai import OpenAIEmbeddings\n",
    "\n",
    "embedding_creator = OpenAIEmbeddings()\n",
    "vector = embedding_creator.embed_query(\"apple\")\n",
    "print(vector[:3])\n",
    "print(len(vector))"
   ]
  },
  {
   "cell_type": "code",
   "execution_count": null,
   "id": "d90aa9b2-47e4-42d8-bf4d-c46e27c5960e",
   "metadata": {},
   "outputs": [],
   "source": [
    "vector = embedding_creator.embed_query(\"Blacksburg is located in the state of Virginia, which can be found in the United States.\")\n",
    "print(vector[:3])\n",
    "print(len(vector))"
   ]
  },
  {
   "cell_type": "code",
   "execution_count": null,
   "id": "f8fa30e3-708b-41d1-9644-d9af2bba853c",
   "metadata": {},
   "outputs": [],
   "source": [
    "from langchain.evaluation import load_evaluator\n",
    "\n",
    "evaluator = load_evaluator(\"pairwise_embedding_distance\")\n",
    "x = evaluator.evaluate_string_pairs(prediction=\"apple\", prediction_b=\"pear\")\n",
    "print(x)"
   ]
  },
  {
   "cell_type": "code",
   "execution_count": null,
   "id": "63fda01d-0355-4840-8222-e2d0dcca378a",
   "metadata": {},
   "outputs": [],
   "source": [
    "x = evaluator.evaluate_string_pairs(prediction=\"apple\", prediction_b=\"applesauce\")\n",
    "print(x)"
   ]
  },
  {
   "cell_type": "code",
   "execution_count": null,
   "id": "7c5825cb-24bf-44e2-b059-54f4f079834a",
   "metadata": {},
   "outputs": [],
   "source": [
    "x = evaluator.evaluate_string_pairs(prediction=\"apple\", prediction_b=\"iphone\")\n",
    "print(x)"
   ]
  },
  {
   "cell_type": "code",
   "execution_count": null,
   "id": "135ed57e-b298-4435-94a0-0d5f3762b71f",
   "metadata": {
    "scrolled": true
   },
   "outputs": [],
   "source": [
    "x = evaluator.evaluate_string_pairs(prediction=\"apple\", prediction_b=\"escalator\")\n",
    "print(x)"
   ]
  }
 ],
 "metadata": {
  "kernelspec": {
   "display_name": "Python 3 (ipykernel)",
   "language": "python",
   "name": "python3"
  },
  "language_info": {
   "codemirror_mode": {
    "name": "ipython",
    "version": 3
   },
   "file_extension": ".py",
   "mimetype": "text/x-python",
   "name": "python",
   "nbconvert_exporter": "python",
   "pygments_lexer": "ipython3",
   "version": "3.11.8"
  }
 },
 "nbformat": 4,
 "nbformat_minor": 5
}
