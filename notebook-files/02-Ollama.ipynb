{
 "cells": [
  {
   "cell_type": "markdown",
   "id": "2437c501-22a0-4b3b-9945-c79a3a86c3cb",
   "metadata": {},
   "source": [
    "## 1. Ollama setup"
   ]
  },
  {
   "cell_type": "code",
   "execution_count": null,
   "id": "b9a3420c-b366-4da8-8d34-f309454daccc",
   "metadata": {},
   "outputs": [],
   "source": [
    "from config import ollama_base_url\n",
    "from langchain_community.llms import Ollama\n",
    "\n",
    "llm = Ollama(model=\"llama2\", base_url=ollama_base_url)"
   ]
  },
  {
   "cell_type": "code",
   "execution_count": null,
   "id": "75b1fa51-0848-46b7-b794-823bb5df23e6",
   "metadata": {},
   "outputs": [],
   "source": [
    "query = \"Tell me a dad joke about Docker and containers\"\n",
    "\n",
    "for chunks in llm.stream(query):\n",
    "    print(chunks)"
   ]
  },
  {
   "cell_type": "markdown",
   "id": "d762f664-a94c-4f9e-b75f-0c3c64cc9dc1",
   "metadata": {},
   "source": [
    "## 2. Prompt templates"
   ]
  },
  {
   "cell_type": "code",
   "execution_count": null,
   "id": "fddfdd2d-7cf9-478d-bffc-6d8dc43e0a9d",
   "metadata": {},
   "outputs": [],
   "source": [
    "from langchain.prompts import PromptTemplate\n",
    "\n",
    "prompt_template = PromptTemplate(\n",
    "  input_variables = [\"joke_topic\"],\n",
    "  template = \"Tell me a dad joke about the following topic. It should have puns, hilarious. Topic: {joke_topic} \"\n",
    ")\n",
    "\n",
    "prompt_template.format(joke_topic=\"Docker and containers\")"
   ]
  },
  {
   "cell_type": "code",
   "execution_count": null,
   "id": "83a58045-834a-41fc-8560-f8485eff9a8b",
   "metadata": {},
   "outputs": [],
   "source": [
    "from langchain.chains import LLMChain\n",
    "\n",
    "chain = LLMChain(llm=llm, prompt=prompt_template)\n",
    "chain.invoke(\"Docker and containers\")"
   ]
  },
  {
   "cell_type": "markdown",
   "id": "dd62e552-ff6c-4c97-a69f-dc645cfd8495",
   "metadata": {},
   "source": [
    "## 3. Embeddings"
   ]
  },
  {
   "cell_type": "code",
   "execution_count": null,
   "id": "1b735d25-63ee-49bb-8a87-01b87d57a8f8",
   "metadata": {},
   "outputs": [],
   "source": [
    "from langchain_community.embeddings import OllamaEmbeddings\n",
    "\n",
    "embedding_creator = OllamaEmbeddings(base_url=ollama_base_url)\n",
    "vector = embedding_creator.embed_query(\"apple\")\n",
    "print(vector[:3])\n",
    "print(len(vector))"
   ]
  },
  {
   "cell_type": "code",
   "execution_count": null,
   "id": "3e467cdc-4957-4e6b-ab58-9dc11501fe37",
   "metadata": {},
   "outputs": [],
   "source": [
    "vector = embedding_creator.embed_query(\"Blacksburg is located in the state of Virginia, which can be found in the United States.\")\n",
    "print(vector[:3])\n",
    "print(len(vector))"
   ]
  },
  {
   "cell_type": "code",
   "execution_count": null,
   "id": "c7dd1a48-d45d-458d-ae71-48690fb7faf5",
   "metadata": {},
   "outputs": [],
   "source": [
    "from langchain.evaluation import load_evaluator\n",
    "\n",
    "evaluator = load_evaluator(\"pairwise_embedding_distance\", embeddings=embedding_creator)\n",
    "x = evaluator.evaluate_string_pairs(prediction=\"apple\", prediction_b=\"pear\")\n",
    "print(x)"
   ]
  },
  {
   "cell_type": "code",
   "execution_count": null,
   "id": "e32f8841-b7bd-4cfd-ac41-e24c3ecedc8c",
   "metadata": {},
   "outputs": [],
   "source": [
    "x = evaluator.evaluate_string_pairs(prediction=\"apple\", prediction_b=\"applesauce\")\n",
    "print(x)"
   ]
  },
  {
   "cell_type": "code",
   "execution_count": null,
   "id": "5c638df5-8559-4f59-958b-a79b463bb69f",
   "metadata": {},
   "outputs": [],
   "source": [
    "x = evaluator.evaluate_string_pairs(prediction=\"apple\", prediction_b=\"iphone\")\n",
    "print(x)"
   ]
  },
  {
   "cell_type": "code",
   "execution_count": null,
   "id": "ae6eb9d3-9e5d-490f-9043-b36c0473306d",
   "metadata": {
    "scrolled": true
   },
   "outputs": [],
   "source": [
    "x = evaluator.evaluate_string_pairs(prediction=\"apple\", prediction_b=\"escalator\")\n",
    "print(x)"
   ]
  },
  {
   "cell_type": "code",
   "execution_count": null,
   "id": "33a06085-270d-4ce0-a0ed-1a32f7daf065",
   "metadata": {
    "scrolled": true
   },
   "outputs": [],
   "source": [
    "x = evaluator.evaluate_string_pairs(prediction=\"apple\", prediction_b=\"apple\")\n",
    "print(x)"
   ]
  }
 ],
 "metadata": {
  "kernelspec": {
   "display_name": "Python 3 (ipykernel)",
   "language": "python",
   "name": "python3"
  },
  "language_info": {
   "codemirror_mode": {
    "name": "ipython",
    "version": 3
   },
   "file_extension": ".py",
   "mimetype": "text/x-python",
   "name": "python",
   "nbconvert_exporter": "python",
   "pygments_lexer": "ipython3",
   "version": "3.11.8"
  }
 },
 "nbformat": 4,
 "nbformat_minor": 5
}
